{
 "cells": [
  {
   "cell_type": "code",
   "execution_count": 2,
   "metadata": {},
   "outputs": [],
   "source": [
    "from __future__ import print_function, division\n",
    "import numpy as np\n",
    "import matplotlib\n",
    "\n",
    "matplotlib.rcParams.update({'font.size': 20, 'image.cmap': 'gray_r'})"
   ]
  },
  {
   "cell_type": "markdown",
   "metadata": {},
   "source": [
    "# A visual introduction to NumPy and Matplotlib\n",
    "\n",
    "**Author:** Florencia Noriega\n",
    "\n",
    "29.03.2019, CODE student's Hackathon\n",
    "\n",
    "\n",
    "<a title=\"David Cournapeau [BSD (http://opensource.org/licenses/bsd-license.php)], via Wikimedia Commons\" href=\"https://commons.wikimedia.org/wiki/File:NumPy_logo.svg\"><img width=\"280\" alt=\"NumPy logo\" src=\"https://upload.wikimedia.org/wikipedia/commons/thumb/1/1a/NumPy_logo.svg/512px-NumPy_logo.svg.png\"></a>\n",
    "\n",
    "<img src=\"https://matplotlib.org/mpl_examples/api/logo2.png\" width=\"300\" alt=Matplotlib plots>\n",
    "\n"
   ]
  },
  {
   "cell_type": "markdown",
   "metadata": {},
   "source": [
    "## Why NumPy?\n",
    "\n",
    "* A powerful N-dimension **array** object\n",
    "\n",
    "* Basic and not so basic **math** operations\n",
    "      * Arithmetics\n",
    "      * **Linear** algebra operations\n",
    "      * Random numbers, FFT, …"
   ]
  },
  {
   "cell_type": "markdown",
   "metadata": {},
   "source": [
    "* **Basis** for other modules"
   ]
  },
  {
   "cell_type": "markdown",
   "metadata": {},
   "source": [
    "<img src=\"https://image.slidesharecdn.com/scientific-python-151121091532-lva1-app6892/95/scientific-python-28-638.jpg?cb=1448101074\" alt=\"Python Scientific Stack\" width=\"600\"/>\n",
    "\n",
    "and many more"
   ]
  },
  {
   "cell_type": "markdown",
   "metadata": {},
   "source": [
    "## NumPy arrays powerful"
   ]
  },
  {
   "cell_type": "markdown",
   "metadata": {},
   "source": [
    "**For example**:\n",
    "\n",
    "NumPy can be much faster (typically $\\approx 50\\times$):"
   ]
  },
  {
   "cell_type": "code",
   "execution_count": 2,
   "metadata": {},
   "outputs": [],
   "source": [
    "x = np.linspace(0, 9, 1001)"
   ]
  },
  {
   "cell_type": "code",
   "execution_count": 3,
   "metadata": {},
   "outputs": [
    {
     "name": "stdout",
     "output_type": "stream",
     "text": [
      "1.36 µs ± 14.3 ns per loop (mean ± std. dev. of 7 runs, 1000000 loops each)\n"
     ]
    }
   ],
   "source": [
    "%%timeit\n",
    "numpy_result = np.sqrt(x)"
   ]
  },
  {
   "cell_type": "code",
   "execution_count": 4,
   "metadata": {},
   "outputs": [],
   "source": [
    "from math import sqrt\n",
    "x = list(x)"
   ]
  },
  {
   "cell_type": "code",
   "execution_count": 5,
   "metadata": {},
   "outputs": [
    {
     "name": "stdout",
     "output_type": "stream",
     "text": [
      "69.2 µs ± 1.34 µs per loop (mean ± std. dev. of 7 runs, 10000 loops each)\n"
     ]
    }
   ],
   "source": [
    "%%timeit\n",
    "python_result = [sqrt(value) for value in x]"
   ]
  },
  {
   "cell_type": "markdown",
   "metadata": {},
   "source": [
    "(The actual speedup depends, but it can be much more for simple operations like $\\times, +$)"
   ]
  },
  {
   "cell_type": "markdown",
   "metadata": {},
   "source": [
    "## What are NumPy arrays?"
   ]
  },
  {
   "cell_type": "markdown",
   "metadata": {},
   "source": [
    "\n",
    "A array data structure \n",
    "\n",
    "* _Normally_ **homogenous data** (i.e. numbers)\n",
    "* Dimensions are called axes\n",
    "* Number of axes, or dimensions, is the rank\n",
    "\n",
    "\n",
    "<img src=\"https://cdn-images-1.medium.com/max/2000/1*Ikn1J6siiiCSk4ivYUhdgw.png\" alt=\"numpy array\" width=\"600\"/>\n",
    "\n",
    "Image from medium.com"
   ]
  },
  {
   "cell_type": "markdown",
   "metadata": {},
   "source": [
    "Some important **attributes** of an **ndarray** object are:\n",
    "\n",
    "`ndarray.ndim`    \n",
    "    number of axes (dimensions) of the array\n",
    "   \n",
    "`ndarray.shape`    \n",
    "number of elements in each axis\n",
    "\n",
    "`ndarray.size`   \n",
    "number of elements in the array\n",
    "\n",
    "`ndarray.dtype`   \n",
    "data type of the stored elements"
   ]
  },
  {
   "cell_type": "markdown",
   "metadata": {},
   "source": [
    "### Let's create our first array"
   ]
  },
  {
   "cell_type": "code",
   "execution_count": 3,
   "metadata": {},
   "outputs": [
    {
     "name": "stdout",
     "output_type": "stream",
     "text": [
      "shape (155, 500)\n",
      "range (0.0, 1.0)\n",
      "dtype float64\n"
     ]
    }
   ],
   "source": [
    "inF = 'data/some_data.txt'\n",
    "arr = np.loadtxt(inF)\n",
    "n0, n1 = np.shape(arr)\n",
    "print(\"shape {}\\nrange ({}, {})\\ndtype {}\".format((n0, n1), \n",
    "                                                  np.min(arr), \n",
    "                                                  np.max(arr), arr.dtype))"
   ]
  },
  {
   "cell_type": "markdown",
   "metadata": {},
   "source": [
    "⚡What is the size of the array?\n",
    "\n",
    "⚡What is the dimension?\n"
   ]
  },
  {
   "cell_type": "code",
   "execution_count": null,
   "metadata": {},
   "outputs": [],
   "source": []
  },
  {
   "cell_type": "markdown",
   "metadata": {},
   "source": [
    "## Creating NumPy arrays\n",
    "\n",
    "### Loading data\n",
    "```python \n",
    "np.loadtxt('path/to/file.txt')```\n",
    "\n",
    "### Typing elements\n",
    "\n",
    "1 dimension  \n",
    "```python \n",
    "np.array([3,2,1])```\n",
    "\n",
    "2 dimensions \n",
    "\n",
    "```python\n",
    "np.array([[1, 2],\n",
    "          [3, 4],\n",
    "          [5, 6]])```\n",
    "\n",
    "3 dimensions \n",
    "```python\n",
    "np.array([[[1, 2],\n",
    "           [2, 3]],\n",
    "          [[4, 5],\n",
    "           [8, 9]]])```\n",
    "\n",
    "\n",
    "### Generate arrays\n",
    "\n",
    "```python\n",
    "zeros, zeros_like, ones, ones_like, empty, empty_like, arange, \n",
    "linspace, numpy.random.rand, numpy.random.randn, fromfunction, fromfile,\n",
    "full, loadtxt, eye, diag```"
   ]
  },
  {
   "cell_type": "markdown",
   "metadata": {},
   "source": [
    "## What kind of data do we have in the array?\n",
    "\n",
    "<img src=\"https://matplotlib.org/mpl_examples/api/logo2.png\" width=\"300\" alt=Matplotlib plots>\n",
    "\n",
    "\n",
    "We know that the array stores floats, but what kind of values do we have?\n",
    "We can use `Matplotlib` to create an histogram of the values in the array"
   ]
  },
  {
   "cell_type": "code",
   "execution_count": 4,
   "metadata": {},
   "outputs": [],
   "source": [
    "import matplotlib.pyplot as plt"
   ]
  },
  {
   "cell_type": "code",
   "execution_count": 21,
   "metadata": {},
   "outputs": [
    {
     "data": {
      "text/plain": [
       "Text(0, 0.5, 'counts')"
      ]
     },
     "execution_count": 21,
     "metadata": {},
     "output_type": "execute_result"
    },
    {
     "data": {
      "image/png": "[encoded data removed]",
      "text/plain": [
       "<Figure size 432x288 with 1 Axes>"
      ]
     },
     "metadata": {
      "needs_background": "light"
     },
     "output_type": "display_data"
    }
   ],
   "source": [
    "x = arr.flatten()\n",
    "## plot\n",
    "plt.hist(x, bins = 10)\n",
    "plt.xlabel('values')\n",
    "plt.ylabel('counts')"
   ]
  },
  {
   "cell_type": "markdown",
   "metadata": {},
   "source": [
    "We can use imshow to visualise 2D arrays"
   ]
  },
  {
   "cell_type": "code",
   "execution_count": 22,
   "metadata": {},
   "outputs": [
    {
     "data": {
      "text/plain": [
       "<matplotlib.image.AxesImage at 0x11e0c8b90>"
      ]
     },
     "execution_count": 22,
     "metadata": {},
     "output_type": "execute_result"
    },
    {
     "data": {
      "image/png": "[encoded data removed]",
      "text/plain": [
       "<Figure size 1008x288 with 1 Axes>"
      ]
     },
     "metadata": {
      "needs_background": "light"
     },
     "output_type": "display_data"
    }
   ],
   "source": [
    "plt.figure(figsize=(14,4))\n",
    "plt.imshow(arr)"
   ]
  },
  {
   "cell_type": "markdown",
   "metadata": {},
   "source": [
    "## Slice the Brandenburg Gate\n",
    "\n",
    "### Indexing  and slicing\n",
    "\n",
    "\n",
    "```python\n",
    "arr[ axis0_indices, axis1_indices, ...]\n",
    "```\n",
    "\n",
    "<img src=\"https://scipy-lectures.org/_images/numpy_indexing.png\" alt=\"slicing\" width=\"500\"/>\n",
    "\n",
    "Image from https://scipy-lectures.org\n",
    "\n",
    "\n",
    "**Like lists**, you can use slicing\n",
    "\n",
    "```python\n",
    "arr[ item_index ]\n",
    "arr[ start : stop ]\n",
    "arr[ start : stop : step ]\n",
    "```\n",
    "\n",
    "**Unlike lists** you can\n",
    "\n",
    "Use commas to refer to the different axes of the array.\n"
   ]
  },
  {
   "cell_type": "markdown",
   "metadata": {},
   "source": [
    "Using sling to view the Brandenburg Gate"
   ]
  },
  {
   "cell_type": "code",
   "execution_count": 28,
   "metadata": {},
   "outputs": [
    {
     "data": {
      "text/plain": [
       "<matplotlib.image.AxesImage at 0x11e979550>"
      ]
     },
     "execution_count": 28,
     "metadata": {},
     "output_type": "execute_result"
    },
    {
     "data": {
      "image/png": "[encoded data removed]",
      "text/plain": [
       "<Figure size 432x288 with 1 Axes>"
      ]
     },
     "metadata": {
      "needs_background": "light"
     },
     "output_type": "display_data"
    }
   ],
   "source": [
    "BrandenburgGate = arr[80:, 187:227]\n",
    "\n",
    "plt.imshow(BrandenburgGate)\n",
    "#BrandenburgGate"
   ]
  },
  {
   "cell_type": "markdown",
   "metadata": {},
   "source": [
    "Use slicing to assign new values"
   ]
  },
  {
   "cell_type": "code",
   "execution_count": 30,
   "metadata": {},
   "outputs": [
    {
     "data": {
      "text/plain": [
       "<matplotlib.image.AxesImage at 0x11e8930d0>"
      ]
     },
     "execution_count": 30,
     "metadata": {},
     "output_type": "execute_result"
    },
    {
     "data": {
      "image/png": "[encoded data removed]",
      "text/plain": [
       "<Figure size 432x288 with 1 Axes>"
      ]
     },
     "metadata": {
      "needs_background": "light"
     },
     "output_type": "display_data"
    }
   ],
   "source": [
    "BrandenburgGate[:, 10::20] = 1\n",
    "BrandenburgGate[10::50, :] = 1\n",
    "\n",
    "plt.imshow(BrandenburgGate)"
   ]
  },
  {
   "cell_type": "markdown",
   "metadata": {},
   "source": [
    "Let's go back to the full image"
   ]
  },
  {
   "cell_type": "code",
   "execution_count": 31,
   "metadata": {},
   "outputs": [
    {
     "data": {
      "text/plain": [
       "<matplotlib.image.AxesImage at 0x11e8f2290>"
      ]
     },
     "execution_count": 31,
     "metadata": {},
     "output_type": "execute_result"
    },
    {
     "data": {
      "image/png": "[encoded data removed]",
      "text/plain": [
       "<Figure size 1008x288 with 1 Axes>"
      ]
     },
     "metadata": {
      "needs_background": "light"
     },
     "output_type": "display_data"
    }
   ],
   "source": [
    "plt.figure(figsize=(14,4))\n",
    "plt.imshow(arr)"
   ]
  },
  {
   "cell_type": "markdown",
   "metadata": {},
   "source": [
    "😯 Sling generates views of the same object!\n",
    "\n",
    "You can prevent this to happen by creating a new object `BrandenburgGate = np.array(arr[::, 188:227])`"
   ]
  },
  {
   "cell_type": "markdown",
   "metadata": {},
   "source": [
    "### Advanced indexing\n",
    "\n",
    "Also called fancy indexing\n",
    "\n",
    "<img src=\"https://scipy-lectures.org/_images/numpy_fancy_indexing.png\" alt=\"fancy indexing\" width=\"800\"/>\n",
    "\n",
    "Image from https://scipy-lectures.org"
   ]
  },
  {
   "cell_type": "markdown",
   "metadata": {},
   "source": [
    "## What else can you do with NumPy?\n",
    "\n",
    "### You can do maths\n",
    "\n",
    "#### Elementwise operations (unlike lists)\n",
    "\n",
    "A new array is created and filled with the result.\n",
    "\n",
    "##### Arithmetic operators\n",
    "\n",
    "```python\n",
    "\n",
    "    a-b\n",
    "\n",
    "    b**2\n",
    "\n",
    "    a < 35\n",
    "\n",
    "    A*B  # elementwise product\n",
    "\n",
    "    A.dot(B)  # matrix product\n",
    "    \n",
    "```\n",
    "\n",
    "Some operations, such as += and *=, act in place, modify an existing array rather than create a new one. \n",
    "\n",
    "```python\n",
    "    a *= 3\n",
    "```\n",
    "\n",
    "##### Universal Functions (ufunc)\n",
    "\n",
    "```python\n",
    "    np.exp()\n",
    "\n",
    "    np.sqrt()\n",
    "    \n",
    "    np.sin()\n",
    "\n",
    "```\n",
    "\n",
    "#### Random numbers\n",
    "\n",
    "Use the submodule `np.random` to generate random numbers with different distributions including uniform, normal, Poisson \n"
   ]
  },
  {
   "cell_type": "markdown",
   "metadata": {},
   "source": [
    "## Let's apply our knowledge  adding snow to the city\n",
    "\n",
    "Generate snow"
   ]
  },
  {
   "cell_type": "code",
   "execution_count": 32,
   "metadata": {},
   "outputs": [
    {
     "data": {
      "text/plain": [
       "<matplotlib.image.AxesImage at 0x11eea7750>"
      ]
     },
     "execution_count": 32,
     "metadata": {},
     "output_type": "execute_result"
    },
    {
     "data": {
      "image/png": "[encoded data removed]",
      "text/plain": [
       "<Figure size 432x288 with 1 Axes>"
      ]
     },
     "metadata": {
      "needs_background": "light"
     },
     "output_type": "display_data"
    }
   ],
   "source": [
    "snow = np.zeros_like(arr)\n",
    "snow_density = int(np.size(arr)*0.01)\n",
    "\n",
    "## Draw positions (pixels) randomly\n",
    "idx0 = np.random.randint(0, len(snow[:, 0]), size=snow_density)\n",
    "idx1 = np.random.randint(0, len(snow[0, :]), size=snow_density) #p.random.permutation(np.arange(n1))\n",
    "\n",
    "## Create snow using advanced indexing\n",
    "snow[idx0, idx1] = 1\n",
    "plt.imshow(snow)"
   ]
  },
  {
   "cell_type": "code",
   "execution_count": 36,
   "metadata": {},
   "outputs": [
    {
     "data": {
      "text/plain": [
       "<matplotlib.image.AxesImage at 0x11f860e90>"
      ]
     },
     "execution_count": 36,
     "metadata": {},
     "output_type": "execute_result"
    },
    {
     "data": {
      "image/png": "[encoded data removed]",
      "text/plain": [
       "<Figure size 1008x288 with 1 Axes>"
      ]
     },
     "metadata": {
      "needs_background": "light"
     },
     "output_type": "display_data"
    }
   ],
   "source": [
    "inF = 'some_data.txt'\n",
    "arr = np.loadtxt(inF)\n",
    "\n",
    "plt.figure(figsize=(14,4))\n",
    "plt.axis('off')\n",
    "plt.imshow(np.logical_or(snow, arr))"
   ]
  },
  {
   "cell_type": "markdown",
   "metadata": {},
   "source": [
    "Now that we are experts on NumPy, let's load another dataset"
   ]
  },
  {
   "cell_type": "markdown",
   "metadata": {},
   "source": [
    "## Summary\n",
    "\n",
    "1. How to do convenient, fast math with NumPy\n",
    "2. NumPy arrays\n",
    "\t* **attributes**: size, shape, ndim\n",
    "    * how to create them: element by element or generating them (linespace, random)\n",
    "    * operations, slicing and indexing\n",
    "3. Simple visulisation with Matplotlib"
   ]
  },
  {
   "cell_type": "markdown",
   "metadata": {},
   "source": [
    "# Exercises\n",
    "\n",
    "## Make the colour of the city vary horizontally with a gradient.\n",
    "\n",
    "1. Use `np.linspace` to generate a one dimensional vector of size n (number of columns of the image) with a constant gradient.\n",
    "\n",
    "2. Apply a gradient to the city by multiplying this vector with the image\n",
    "\n",
    "<!---\n",
    "inF = 'some_data.txt'#./arr.txt'\n",
    "M = np.loadtxt(inF)\n",
    "plt.figure(figsize=(14,4))\n",
    "Mgrad = M*np.linspace(20, 50, n1)\n",
    "#Mgrad*=200\n",
    "plt.imshow(Mgrad)\n",
    "--->"
   ]
  },
  {
   "cell_type": "code",
   "execution_count": null,
   "metadata": {},
   "outputs": [],
   "source": []
  },
  {
   "cell_type": "markdown",
   "metadata": {},
   "source": [
    "##  More exercises \n",
    "https://github.com/floreencia/SE_LU_49-Productivity_tools_for_data_science/tree/master/exercises"
   ]
  },
  {
   "cell_type": "markdown",
   "metadata": {},
   "source": [
    "##  Most edited Wikipedia pages\n",
    "\n",
    "https://en.wikipedia.org/wiki/Wikipedia:Database_reports/Pages_with_the_most_revisions\n",
    "\n",
    "Use `np.loadtxt` to load the data in 'wikipedia_pages_with_the_most_revisions.txt' as an array of strings. \n",
    "\n",
    "**Hint:** Set arguments `delimiter='\\t'`, `dtype=str`"
   ]
  },
  {
   "cell_type": "code",
   "execution_count": null,
   "metadata": {},
   "outputs": [],
   "source": []
  },
  {
   "cell_type": "markdown",
   "metadata": {},
   "source": [
    "# References\n",
    "\n",
    "\n",
    "* Scipy lectures https://scipy-lectures.org/intro/numpy/array_object.html\n",
    "\n",
    "* Ramiro Gómez, What are the Most Edited Pages in the English Wikipedia? [Blog](http://ramiro.org/notebook/wikipedia-most-revisions/)\n",
    "    \n",
    "### Parts of these slides were taken from\n",
    "\n",
    "* https://github.com/MPIDS/introduction_to_programming \n",
    "* https://github.com/MPIDS/Python-Course/tree/master/03-numpy-scipy/talks\n",
    "\n",
    "\n",
    "### Images\n",
    "\n",
    "* NumPy logo -- David Cournapeau [BSD (http://opensource.org/licenses/bsd-license.php)]\n",
    "\n",
    "* Python Scientific Stack -- https://image.slidesharecdn.com/scientific-python-151121091532-lva1-app6892/95/scientific-python-28-638.jpg?cb=1448101074\n",
    "\n",
    "* NumPy Arrays -- https://medium.com/datadriveninvestor/artificial-intelligence-series-part-2-numpy-walkthrough-64461f26af4f\n",
    "\n",
    "* Berlin silhouette -- modified from https://commons.wikimedia.org/wiki/File:Silhouette_Berlin.svg\n",
    "\n",
    "* Slicing summary -- https://scipy-lectures.org/intro/numpy/array_object.html\n",
    "\n",
    "* Fancy indexing -- https://scipy-lectures.org/_images/numpy_fancy_indexing.png\n",
    "\n",
    "\n",
    "# Further material\n",
    "\n",
    "### Python modules for Data Science\n",
    "\n",
    "* Basis\n",
    "    * Numpy, Matplotlib\n",
    "* Exploratory data analysis\n",
    "    * Pandas\n",
    "    * Seaborn\n",
    "* Machine learning\n",
    "    * Scikit-learn\n",
    "    * Tensorflow\n",
    "\n",
    "### Cheat sheets\n",
    "\n",
    "* [Jupyter-Notebook](https://datacamp-community-prod.s3.amazonaws.com/48093c40-5303-45f4-bbf9-0c96c0133c40)\n",
    "* [NumPy](https://s3.amazonaws.com/assets.datacamp.com/blog_assets/Numpy_Python_Cheat_Sheet.pdf)\n",
    "* [Matplotlib](https://s3.amazonaws.com/assets.datacamp.com/blog_assets/Python_Matplotlib_Cheat_Sheet.pdf)\n",
    "* [Pandas](https://s3.amazonaws.com/assets.datacamp.com/blog_assets/PandasPythonForDataScience.pdf)\n",
    "\n"
   ]
  },
  {
   "cell_type": "code",
   "execution_count": null,
   "metadata": {},
   "outputs": [],
   "source": []
  }
 ],
 "metadata": {
  "kernelspec": {
   "display_name": "Python 3",
   "language": "python",
   "name": "python3"
  },
  "language_info": {
   "codemirror_mode": {
    "name": "ipython",
    "version": 3
   },
   "file_extension": ".py",
   "mimetype": "text/x-python",
   "name": "python",
   "nbconvert_exporter": "python",
   "pygments_lexer": "ipython3",
   "version": "3.7.5"
  }
 },
 "nbformat": 4,
 "nbformat_minor": 2
}
