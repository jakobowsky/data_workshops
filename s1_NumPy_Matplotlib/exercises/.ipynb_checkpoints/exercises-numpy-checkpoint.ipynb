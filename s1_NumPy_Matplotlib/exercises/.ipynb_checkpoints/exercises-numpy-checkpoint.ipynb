{
 "cells": [
  {
   "cell_type": "markdown",
   "metadata": {},
   "source": [
    "# Numpy Exercises"
   ]
  },
  {
   "cell_type": "markdown",
   "metadata": {},
   "source": [
    "## Warm up\n",
    "\n",
    "Selected from the collection\n",
    "[100 numpy exercises](https://github.com/rougier/numpy-100/blob/master/100%20Numpy%20exercises%20no%20solution.ipynb)"
   ]
  },
  {
   "cell_type": "markdown",
   "metadata": {},
   "source": [
    "#### Import NumPy\n",
    "\n",
    "Import the numpy package under the name np and check the version\n",
    "<!---\n",
    "np.__version__\n",
    "--->"
   ]
  },
  {
   "cell_type": "code",
   "execution_count": 1,
   "metadata": {},
   "outputs": [],
   "source": [
    "import numpy as np"
   ]
  },
  {
   "cell_type": "markdown",
   "metadata": {},
   "source": [
    "#### Create a null vector of size 10\n",
    "<!---\n",
    "np.zeros()\n",
    "--->"
   ]
  },
  {
   "cell_type": "code",
   "execution_count": 8,
   "metadata": {},
   "outputs": [
    {
     "name": "stdout",
     "output_type": "stream",
     "text": [
      "[0. 0. 0. 0. 0. 0. 0. 0. 0. 0.]\n"
     ]
    }
   ],
   "source": [
    "print(np.zeros(10))"
   ]
  },
  {
   "cell_type": "markdown",
   "metadata": {},
   "source": [
    "#### Find indices of non-zero elements from [1,2,0,0,4,0]\n",
    "\n",
    "<!---\n",
    "np.nonzero()\n",
    "--->"
   ]
  },
  {
   "cell_type": "code",
   "execution_count": 7,
   "metadata": {},
   "outputs": [
    {
     "name": "stdout",
     "output_type": "stream",
     "text": [
      "[1 2 4]\n"
     ]
    }
   ],
   "source": [
    "arr = np.array([1,2,0,0,4,0])\n",
    "print(arr[arr>0])"
   ]
  },
  {
   "cell_type": "markdown",
   "metadata": {},
   "source": [
    "#### Create a 3x3 identity matrix\n",
    "\n",
    "<!---\n",
    "np.eye()\n",
    "--->"
   ]
  },
  {
   "cell_type": "code",
   "execution_count": 10,
   "metadata": {},
   "outputs": [
    {
     "name": "stdout",
     "output_type": "stream",
     "text": [
      "[[1. 0. 0.]\n",
      " [0. 1. 0.]\n",
      " [0. 0. 1.]]\n"
     ]
    }
   ],
   "source": [
    "print(np.eye(3))"
   ]
  },
  {
   "cell_type": "markdown",
   "metadata": {},
   "source": [
    "## Array creation and manipulation"
   ]
  },
  {
   "cell_type": "markdown",
   "metadata": {},
   "source": [
    "By using miscellaneous constructors, indexing, slicing, and simple operations (+, −, *, :),\n",
    "large arrays with various patterns can be created. Find a way to create these arrays."
   ]
  },
  {
   "cell_type": "markdown",
   "metadata": {},
   "source": [
    "1. Create the following arrays:\n",
    "\n",
    "a) \n",
    "  \n",
    "  $$\n",
    "\\begin{pmatrix}\n",
    "    1. & 1. & 1. & 1. \\\\\n",
    "    1. & 1. & 1. & 1. \\\\\n",
    "    1. & 1. & 1. & 2. \\\\\n",
    "    1. & 6. & 1. & 1. \\\\\n",
    "\\end{pmatrix}\n",
    "$$\n",
    "\n"
   ]
  },
  {
   "cell_type": "code",
   "execution_count": 16,
   "metadata": {},
   "outputs": [
    {
     "name": "stdout",
     "output_type": "stream",
     "text": [
      "[[1. 1. 1. 1.]\n",
      " [1. 1. 1. 1.]\n",
      " [1. 1. 1. 2.]\n",
      " [1. 6. 1. 1.]]\n"
     ]
    }
   ],
   "source": [
    "a = np.ones([4,4])\n",
    "a[3,1]+=5\n",
    "a[2,3]+=1\n",
    "print(a)\n"
   ]
  },
  {
   "cell_type": "markdown",
   "metadata": {},
   "source": [
    "  b)\n",
    "$$\n",
    "\\begin{pmatrix}\n",
    "    0 & 0 & 0 & 0 & 0 \\\\\n",
    "    2 & 0 & 0 & 0 & 0 \\\\\n",
    "    0 & 3 & 0 & 0 & 0 \\\\\n",
    "    0 & 0 & 4 & 0 & 0 \\\\\n",
    "    0 & 0 & 0 & 5 & 0 \\\\\n",
    "    0 & 0 & 0 & 0 & 6 \\\\\n",
    "\\end{pmatrix}\n",
    "$$\n",
    "\n",
    "<!---\n",
    "np.diag(1+np.arange(4),k=-1)\n",
    "--->"
   ]
  },
  {
   "cell_type": "code",
   "execution_count": 64,
   "metadata": {},
   "outputs": [
    {
     "name": "stdout",
     "output_type": "stream",
     "text": [
      "[[0. 0. 0. 0. 0.]\n",
      " [2. 0. 0. 0. 0.]\n",
      " [0. 3. 0. 0. 0.]\n",
      " [0. 0. 4. 0. 0.]\n",
      " [0. 0. 0. 5. 0.]\n",
      " [0. 0. 0. 0. 6.]]\n"
     ]
    }
   ],
   "source": [
    "# b = np.zeros([5,5])\n",
    "eye_arr = np.eye(5)  \n",
    "add = np.arange(2, 7)\n",
    "np.fill_diagonal(eye_arr,list(add))\n",
    "# print(eye_arr)\n",
    "result = np.concatenate(([[0,0,0,0,0]], eye_arr, ), axis=0)\n",
    "print(result)\n",
    "# print(result)\n",
    "# print(result)\n",
    "# print(list(add))\n"
   ]
  },
  {
   "cell_type": "code",
   "execution_count": 58,
   "metadata": {},
   "outputs": [
    {
     "data": {
      "text/plain": [
       "[0, 0, 0, 0, 0]"
      ]
     },
     "execution_count": 58,
     "metadata": {},
     "output_type": "execute_result"
    }
   ],
   "source": [
    "# a = np.zeros((3, 3), int)\n",
    "# x = np.fill_diagonal(np.fliplr(a), [1,2,3])\n",
    "# [0] * 5"
   ]
  },
  {
   "cell_type": "markdown",
   "metadata": {},
   "source": [
    "c) Form this 2-D array (without explicitly typing it):\n",
    "\n",
    "$$\n",
    "\\begin{pmatrix}\n",
    "    1 & 6 & 11 \\\\\n",
    "    2 & 7 & 12 \\\\\n",
    "    3 & 8 & 13 \\\\\n",
    "    4 & 9 & 14 \\\\\n",
    "    5 & 10 & 15 \\\\\n",
    "\\end{pmatrix}\n",
    "$$"
   ]
  },
  {
   "cell_type": "code",
   "execution_count": 3,
   "metadata": {},
   "outputs": [],
   "source": []
  },
  {
   "cell_type": "markdown",
   "metadata": {},
   "source": [
    "## A simple calculation\n",
    "\n",
    "1. Create a two dimensional array `a` with different number of rows and columns\n",
    "    * Divide the **columns** of `a` with a one dimensional array\n",
    "    * Divide the **rows** of `a` with a one dimensional array\n",
    " \n",
    "Do you notice some problem? \n",
    "\n",
    "What error message do you get?\n",
    " \n",
    "<!---\n",
    "a = np.random.randint(2,4,(4,3))\n",
    "b = np.arange(1,4)\n",
    "c = np.arange(1,5)\n",
    "\n",
    "Divide columns\n",
    "np.divide(a, b)\n",
    "\n",
    "Divide rows\n",
    "np.divide(a.T, c).T\n",
    "--->\n",
    "\n"
   ]
  },
  {
   "cell_type": "code",
   "execution_count": null,
   "metadata": {},
   "outputs": [],
   "source": []
  },
  {
   "cell_type": "markdown",
   "metadata": {},
   "source": [
    "## Sorting and indexing"
   ]
  },
  {
   "cell_type": "markdown",
   "metadata": {},
   "source": [
    "a) Generate a 10 × 3 array of random numbers ($\\in [0, 1[$). \n",
    "For each row, get the index of the number closest to 0.5. \n",
    "Hint: Use ``abs`` and ``argmin`` to find the column $j$ closest for\n",
    "each row. \n",
    "\n",
    "b) Use advanced indexing to extract the numbers closest to 0.5 for each row. \n",
    "Hint: use fancy indexing `arr[i, j]`, \n",
    "$i$ must contain the row numbers corresponding to stuff in $j$.\n",
    "\n",
    "<!--\n",
    "A = np.random.rand(10, 3) # generate array of random numbers\n",
    "B = np.abs(A - 0.5) # smallest values are the closest ones to 0.5\n",
    "idx = np.argmin(B, axis=1) # indices of the values closest 0.5\n",
    "A[np.arange(len(A)), idx] # use fancy indexing to get the values closest to 0.5\n",
    "-->\n",
    "\n"
   ]
  },
  {
   "cell_type": "code",
   "execution_count": null,
   "metadata": {},
   "outputs": [],
   "source": []
  },
  {
   "cell_type": "markdown",
   "metadata": {},
   "source": [
    "##  Solving Systems of Linear Equations\n",
    "\n",
    "You find three shopping bags with following content:\n",
    "\n",
    "* bag A: 10 kg apples, 5 kg pears, 1 kg oranges (35.35 EUR)\n",
    "* bag B: 1 kg apples, 8 kg pears, 1 kg oranges (24.91 EUR)\n",
    "* bag C: 9 kg apples, 3 kg pears, 5 kg oranges (40.38 EUR)\n",
    "\n",
    "Determine the price of apples, oranges and pears:\n",
    "1. Formulate a linear system of equations describing the shopping bags.\n",
    "2. Use ``scipy.linalg.solve()`` (or ``numpy.linalg``) to solve the system of equations.\n",
    "3. Verify the results by using ``np.dot()``."
   ]
  }
 ],
 "metadata": {
  "anaconda-cloud": {},
  "kernelspec": {
   "display_name": "Python 3",
   "language": "python",
   "name": "python3"
  },
  "language_info": {
   "codemirror_mode": {
    "name": "ipython",
    "version": 3
   },
   "file_extension": ".py",
   "mimetype": "text/x-python",
   "name": "python",
   "nbconvert_exporter": "python",
   "pygments_lexer": "ipython3",
   "version": "3.7.5"
  }
 },
 "nbformat": 4,
 "nbformat_minor": 1
}
