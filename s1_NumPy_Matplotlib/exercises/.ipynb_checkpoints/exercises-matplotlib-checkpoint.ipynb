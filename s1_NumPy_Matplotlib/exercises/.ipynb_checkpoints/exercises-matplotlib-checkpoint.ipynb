{
 "cells": [
  {
   "cell_type": "markdown",
   "metadata": {},
   "source": [
    "# Matplotlib Excercises"
   ]
  },
  {
   "cell_type": "code",
   "execution_count": 1,
   "metadata": {},
   "outputs": [],
   "source": [
    "# Make the IPython notebook matplotlib aware:\n",
    "#%matplotlib inline\n",
    "import matplotlib\n",
    "import numpy as np\n",
    "# And fix the default savefig dpi that ipython sets very low\n",
    "matplotlib.rcParams['savefig.dpi'] = 120  \n",
    "\n",
    "# Import the pyplot interface to matplotlib:\n",
    "from matplotlib import pyplot as plt"
   ]
  },
  {
   "cell_type": "markdown",
   "metadata": {},
   "source": [
    "## Simple Plotting"
   ]
  },
  {
   "cell_type": "markdown",
   "metadata": {},
   "source": [
    "1. Plot a the sine function from 0 to 6 (inclusinve) using 50 points.\n",
    "2. Plot the line again in red and with diamond shaped markers of size 5.\n",
    "3. Now plot the line, but include a legend.\n",
    "\n",
    "*Helpful functions*: ``plt.plot``, ``plt.legend``, ``plt.grid``"
   ]
  },
  {
   "cell_type": "code",
   "execution_count": null,
   "metadata": {
    "collapsed": true
   },
   "outputs": [],
   "source": []
  },
  {
   "cell_type": "markdown",
   "metadata": {},
   "source": [
    "## Simple Plotting II"
   ]
  },
  {
   "cell_type": "markdown",
   "metadata": {},
   "source": [
    "Try to recreate the following plot:\n",
    "\n",
    "![](./images/simple_plotting_2.png)\n"
   ]
  },
  {
   "cell_type": "markdown",
   "metadata": {},
   "source": [
    "*Helpful functions:* ``plt.fill``, ``plt.fill between``"
   ]
  },
  {
   "cell_type": "markdown",
   "metadata": {},
   "source": [
    "## Image I/O:\n",
    "Often one needs to reduce the size of a digital image by *downsampling*: i.e. only choose a smaller number of pixels from an image.\n",
    "\n",
    "Downsample the image 'bricks.jpg' by selecting every 2nd or 3rd pixel along each axis (x and y). \n",
    "\n",
    "Are there any surprising artefacts in the resulting image?\n",
    "\n",
    "Hint: use `plt.imread` and `plt.imshow`\n",
    "\n",
    "<!---\n",
    "M = plt.imread('./images/bricks.jpg')\n",
    "print(M.shape)\n",
    "fig, ax = plt.subplots(1,2, figsize=(20,20))\n",
    "ax[0].imshow(M)\n",
    "ax[1].imshow(M[::2,::2,:])\n",
    "--->"
   ]
  },
  {
   "cell_type": "code",
   "execution_count": null,
   "metadata": {},
   "outputs": [],
   "source": []
  },
  {
   "cell_type": "markdown",
   "metadata": {},
   "source": [
    "## 2D Gaussian\n",
    "\n",
    "Plot a 2D-Gaussian function with center in (0, a)\n",
    "\n",
    "$$\n",
    "X(x,y) = e^{-(x^2 + (y - a)^2)}\n",
    "$$\n",
    "\n",
    "you chose the value of $a$.\n",
    "\n",
    "1. Make two subplots of the Gaussian function with the colormap jet and another one with viridis. Hint: use `plt.pcolormesh`.\n",
    "Fix the aspect ratio of the figures so that both x and y dimensions have the same scale. \n",
    "Notice that both figures show the same function, the only difference is the colormap. Do the plots look the same to you?\n",
    "\n",
    "2. Add a second row of plots to you figure and plot the level curves. Hint: use `plt.contour`\n",
    "\n",
    "\n",
    "\n",
    "<!---\n",
    "x = y = np.linspace(-3, 3, 101)\n",
    "plt.title('Gaussian function')\n",
    "values = np.exp(-(x**2 + (y[:, None] + 0.5)**2))\n",
    "plt.pcolormesh(x, y, values)#, cmap=plt.cm.viridis)\n",
    "plt.colorbar()\n",
    "--->"
   ]
  },
  {
   "cell_type": "code",
   "execution_count": null,
   "metadata": {},
   "outputs": [],
   "source": []
  }
 ],
 "metadata": {
  "anaconda-cloud": {},
  "kernelspec": {
   "display_name": "Python 3",
   "language": "python",
   "name": "python3"
  },
  "language_info": {
   "codemirror_mode": {
    "name": "ipython",
    "version": 3
   },
   "file_extension": ".py",
   "mimetype": "text/x-python",
   "name": "python",
   "nbconvert_exporter": "python",
   "pygments_lexer": "ipython3",
   "version": "3.7.5"
  }
 },
 "nbformat": 4,
 "nbformat_minor": 1
}
